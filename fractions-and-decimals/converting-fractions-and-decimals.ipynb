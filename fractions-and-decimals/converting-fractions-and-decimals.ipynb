{
  "cells": [
    {
      "cell_type": "markdown",
      "metadata": {
        "id": "-jJISeLWBmPO"
      },
      "source": [
        "Positive and negative exponents"
      ]
    },
    {
      "cell_type": "code",
      "execution_count": null,
      "metadata": {
        "colab": {
          "base_uri": "https://localhost:8080/"
        },
        "id": "NkMTAVF0BlqE",
        "outputId": "9ad0555b-b96f-419f-d6a5-dd9063aac857"
      },
      "outputs": [
        {
          "name": "stdout",
          "output_type": "stream",
          "text": [
            "10\n",
            "100\n",
            "1000\n",
            "1\n",
            "0.1\n",
            "0.01\n",
            "0.001\n"
          ]
        }
      ],
      "source": [
        "print(10**1)\n",
        "print(10**2)\n",
        "print(10**3)\n",
        "\n",
        "print(10**0)\n",
        "\n",
        "print(10**-1)\n",
        "print(10**-2)\n",
        "print(10**-3)"
      ]
    },
    {
      "cell_type": "markdown",
      "metadata": {
        "id": "M6tAOp4pDAtB"
      },
      "source": [
        "User input comes in as a string. You can find the length of the string"
      ]
    },
    {
      "cell_type": "code",
      "execution_count": null,
      "metadata": {
        "colab": {
          "base_uri": "https://localhost:8080/"
        },
        "id": "pzYatQcjCWhp",
        "outputId": "8695010a-dd21-4160-f4b8-a8ff2314f3a2"
      },
      "outputs": [
        {
          "name": "stdout",
          "output_type": "stream",
          "text": [
            "Enter a number.123\n",
            ".123\n",
            "4\n"
          ]
        }
      ],
      "source": [
        "text = input(\"Enter a number\")\n",
        "\n",
        "print(text)\n",
        "print(len(text))\n",
        "\n",
        "# error - can't do math here\n",
        "# print(text+3)"
      ]
    },
    {
      "cell_type": "markdown",
      "metadata": {
        "id": "3x1_knXsDG29"
      },
      "source": [
        "Cast input as a `float` or `int` variable"
      ]
    },
    {
      "cell_type": "code",
      "execution_count": null,
      "metadata": {
        "colab": {
          "base_uri": "https://localhost:8080/"
        },
        "id": "8mtkOWLXDPZK",
        "outputId": "4a632d26-51bd-44ff-f1b0-4d9de8c03b09"
      },
      "outputs": [
        {
          "name": "stdout",
          "output_type": "stream",
          "text": [
            "Enter a number.123\n",
            "4.123\n"
          ]
        }
      ],
      "source": [
        "text = input(\"Enter a number\")\n",
        "num = float(text)\n",
        "print(num + 4)"
      ]
    },
    {
      "cell_type": "markdown",
      "metadata": {
        "id": "MB7AkCnVEz7N"
      },
      "source": [
        "Now put it all together"
      ]
    },
    {
      "cell_type": "code",
      "execution_count": null,
      "metadata": {
        "colab": {
          "base_uri": "https://localhost:8080/"
        },
        "id": "pDaZckUyBKRl",
        "outputId": "4f179500-e52a-49cc-ce57-3c345ce8f581"
      },
      "outputs": [
        {
          "name": "stdout",
          "output_type": "stream",
          "text": [
            "Enter a decimal number to convert: .2\n",
            "The decimal is  0.2\n",
            "The fraction is  2 / 10\n",
            "The percent is  20.0  %\n"
          ]
        }
      ],
      "source": [
        "\n",
        "# Get string input, which will include a decimal point\n",
        "digits = input(\"Enter a decimal number to convert: \")\n",
        "\n",
        "# Get number of decimal places as an integer\n",
        "exponent = int(len(digits))-1\n",
        "\n",
        "# Convert the input to a float number\n",
        "n = float(digits)\n",
        "\n",
        "# Use the exponent to get the numerator\n",
        "numerator = int(n * 10**exponent)\n",
        "\n",
        "# Use the expoent to get the denominator\n",
        "denominator = 10**exponent\n",
        "\n",
        "# percent is the first two decimal places\n",
        "percent = n * 100\n",
        "\n",
        "# Output\n",
        "print(\"The decimal is \", n)\n",
        "print(\"The fraction is \", numerator, \"/\", denominator)\n",
        "print(\"The percent is \", percent, \" %\")"
      ]
    }
  ],
  "metadata": {
    "colab": {
      "provenance": []
    },
    "kernelspec": {
      "display_name": "Python 3",
      "name": "python3"
    },
    "language_info": {
      "name": "python"
    }
  },
  "nbformat": 4,
  "nbformat_minor": 0
}
